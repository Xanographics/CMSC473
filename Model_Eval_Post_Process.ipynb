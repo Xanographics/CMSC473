{
 "cells": [
  {
   "cell_type": "code",
   "execution_count": 1,
   "metadata": {},
   "outputs": [],
   "source": [
    "import numpy as np\n",
    "import matplotlib.pyplot as plt"
   ]
  },
  {
   "cell_type": "markdown",
   "metadata": {},
   "source": [
    "TOTAL = 474059"
   ]
  },
  {
   "cell_type": "code",
   "execution_count": 6,
   "metadata": {},
   "outputs": [
    {
     "data": {
      "text/plain": [
       "(100, 4)"
      ]
     },
     "execution_count": 6,
     "metadata": {},
     "output_type": "execute_result"
    }
   ],
   "source": [
    "agg_test_data = np.load('Performance_Agg.npy', allow_pickle=True)\n",
    "agg_test_data.shape"
   ]
  },
  {
   "cell_type": "code",
   "execution_count": 7,
   "metadata": {},
   "outputs": [
    {
     "data": {
      "text/plain": [
       "(100,)"
      ]
     },
     "execution_count": 7,
     "metadata": {},
     "output_type": "execute_result"
    }
   ],
   "source": [
    "agg_test_data_lens = np.load('Performance_Agg_Lengths.npy', allow_pickle=True)\n",
    "agg_test_data_lens.shape"
   ]
  },
  {
   "cell_type": "code",
   "execution_count": 8,
   "metadata": {},
   "outputs": [
    {
     "data": {
      "text/plain": [
       "array([[0.01199777, 0.9944057 , 0.99995816, 1.        ],\n",
       "       [0.307742  , 0.96633565, 1.        , 1.        ],\n",
       "       [0.76987886, 0.98648   , 1.        , 1.        ],\n",
       "       [0.32100305, 0.9366381 , 1.        , 1.        ],\n",
       "       [0.22774263, 0.7996194 , 1.        , 1.        ],\n",
       "       [0.33208382, 0.8669022 , 1.        , 1.        ],\n",
       "       [0.05617183, 0.98330617, 1.        , 1.        ],\n",
       "       [0.27353588, 0.89119136, 1.        , 1.        ],\n",
       "       [0.46427417, 0.9519653 , 1.        , 1.        ],\n",
       "       [0.3538579 , 0.87095493, 1.        , 1.        ],\n",
       "       [0.3944003 , 0.99189514, 1.        , 1.        ],\n",
       "       [0.46249384, 0.952959  , 1.        , 1.        ],\n",
       "       [0.8479095 , 0.9996155 , 1.        , 1.        ],\n",
       "       [0.16641875, 0.84745586, 1.        , 1.        ],\n",
       "       [0.71604866, 0.9426818 , 1.        , 1.        ],\n",
       "       [0.25436118, 0.85604846, 1.        , 1.        ],\n",
       "       [0.27300856, 0.8807681 , 1.        , 1.        ],\n",
       "       [0.302     , 0.8383023 , 1.        , 1.        ],\n",
       "       [0.350388  , 0.86333   , 1.        , 1.        ],\n",
       "       [0.48779115, 0.9285061 , 1.        , 1.        ],\n",
       "       [0.2211211 , 0.7617911 , 1.        , 1.        ],\n",
       "       [0.3060502 , 0.89201623, 1.        , 1.        ],\n",
       "       [0.31460956, 0.91570544, 1.        , 1.        ],\n",
       "       [0.245326  , 0.86233723, 1.        , 1.        ],\n",
       "       [0.26191103, 0.85381484, 1.        , 1.        ],\n",
       "       [0.6286091 , 0.9784675 , 1.        , 1.        ],\n",
       "       [0.17760067, 0.86050427, 1.        , 1.        ],\n",
       "       [0.3833668 , 0.87184876, 1.        , 1.        ],\n",
       "       [0.48984432, 0.92292786, 1.        , 1.        ],\n",
       "       [0.6834884 , 0.9630089 , 1.        , 1.        ],\n",
       "       [0.7038684 , 0.98801786, 1.        , 1.        ],\n",
       "       [0.11995532, 0.62284595, 1.        , 1.        ],\n",
       "       [0.45507002, 0.9454296 , 1.        , 1.        ],\n",
       "       [0.5934282 , 0.9995002 , 1.        , 1.        ],\n",
       "       [0.44134825, 0.94704807, 1.        , 1.        ],\n",
       "       [0.91728115, 1.        , 1.        , 1.        ],\n",
       "       [0.4975371 , 0.93047637, 1.        , 1.        ],\n",
       "       [0.7744529 , 0.99852335, 1.        , 1.        ],\n",
       "       [0.08929703, 0.59981704, 1.        , 1.        ],\n",
       "       [0.35420713, 0.9154063 , 1.        , 1.        ],\n",
       "       [0.9660812 , 0.99382764, 1.        , 1.        ],\n",
       "       [0.5081627 , 0.928682  , 1.        , 1.        ],\n",
       "       [0.98071307, 1.        , 1.        , 1.        ],\n",
       "       [0.05315864, 0.5010821 , 1.        , 1.        ],\n",
       "       [0.31848708, 0.8009514 , 1.        , 1.        ],\n",
       "       [0.90138435, 0.9661601 , 1.        , 1.        ],\n",
       "       [0.17531998, 0.7673608 , 1.        , 1.        ],\n",
       "       [0.8963525 , 0.98938847, 1.        , 1.        ],\n",
       "       [0.31623727, 0.94872826, 1.        , 1.        ],\n",
       "       [0.79744256, 0.9946256 , 1.        , 1.        ],\n",
       "       [0.9129679 , 0.99239475, 1.        , 1.        ],\n",
       "       [0.8537576 , 0.9675124 , 1.        , 1.        ],\n",
       "       [0.2097926 , 0.9042182 , 0.99992794, 1.        ],\n",
       "       [0.1794227 , 0.7125196 , 1.        , 1.        ],\n",
       "       [0.9369599 , 0.9942205 , 1.        , 1.        ],\n",
       "       [0.73473483, 0.9436986 , 1.        , 1.        ],\n",
       "       [0.2285818 , 0.9155303 , 1.        , 1.        ],\n",
       "       [0.17140895, 0.7664973 , 1.        , 1.        ],\n",
       "       [0.12399699, 0.5900171 , 1.        , 1.        ],\n",
       "       [0.6515864 , 0.90601754, 1.        , 1.        ],\n",
       "       [0.9285791 , 0.98086447, 1.        , 1.        ],\n",
       "       [0.672504  , 0.9661604 , 1.        , 1.        ],\n",
       "       [0.73385584, 0.97281694, 1.        , 1.        ],\n",
       "       [0.14644593, 0.7927761 , 1.        , 1.        ],\n",
       "       [0.8903242 , 0.9808863 , 1.        , 1.        ],\n",
       "       [0.893557  , 0.97734416, 1.        , 1.        ],\n",
       "       [0.60195804, 0.959857  , 1.        , 1.        ],\n",
       "       [0.7563091 , 0.9631228 , 1.        , 1.        ],\n",
       "       [0.3756372 , 0.9998943 , 1.        , 1.        ],\n",
       "       [0.61795616, 0.9308656 , 1.        , 1.        ],\n",
       "       [0.69800997, 0.9450735 , 1.        , 1.        ],\n",
       "       [0.71157724, 0.94150865, 1.        , 1.        ],\n",
       "       [0.6371106 , 0.94773114, 1.        , 1.        ],\n",
       "       [0.9181004 , 0.9895731 , 1.        , 1.        ],\n",
       "       [0.51996404, 0.9968312 , 1.        , 1.        ],\n",
       "       [0.90666616, 0.98599744, 1.        , 1.        ],\n",
       "       [0.11613251, 0.61152947, 1.        , 1.        ],\n",
       "       [0.7110503 , 0.9555594 , 1.        , 1.        ],\n",
       "       [0.515799  , 0.94202024, 1.        , 1.        ],\n",
       "       [0.6981052 , 0.97750497, 1.        , 1.        ],\n",
       "       [0.4659961 , 0.9196423 , 1.        , 1.        ],\n",
       "       [0.7799782 , 0.9912818 , 1.        , 1.        ],\n",
       "       [0.7506757 , 0.97321504, 1.        , 1.        ],\n",
       "       [0.7924528 , 1.        , 1.        , 1.        ],\n",
       "       [0.8551832 , 0.9916538 , 1.        , 1.        ],\n",
       "       [0.71412116, 0.99083775, 1.        , 1.        ],\n",
       "       [0.6132916 , 0.9776388 , 1.        , 1.        ],\n",
       "       [0.83434236, 0.99870926, 1.        , 1.        ],\n",
       "       [0.68091595, 0.99968237, 1.        , 1.        ],\n",
       "       [0.7108353 , 0.9761332 , 0.99987113, 1.        ],\n",
       "       [0.82864696, 0.99959034, 1.        , 1.        ],\n",
       "       [0.0090002 , 0.93517965, 1.        , 1.        ],\n",
       "       [0.6820282 , 0.991808  , 0.9999754 , 1.        ],\n",
       "       [0.5588354 , 0.9187646 , 1.        , 1.        ],\n",
       "       [0.20930536, 0.70355046, 1.        , 1.        ],\n",
       "       [0.83981407, 0.9953459 , 1.        , 1.        ],\n",
       "       [0.2595478 , 0.8522731 , 1.        , 1.        ],\n",
       "       [0.71539694, 0.9920896 , 1.        , 1.        ],\n",
       "       [0.37204403, 0.9840169 , 1.        , 1.        ],\n",
       "       [0.59062946, 0.94696164, 1.        , 1.        ]], dtype=float32)"
      ]
     },
     "execution_count": 8,
     "metadata": {},
     "output_type": "execute_result"
    }
   ],
   "source": [
    "for i in range(agg_test_data.shape[0]):\n",
    "    agg_test_data[i] /= agg_test_data_lens[i]\n",
    "agg_test_data"
   ]
  },
  {
   "cell_type": "code",
   "execution_count": 9,
   "metadata": {},
   "outputs": [
    {
     "data": {
      "text/plain": [
       "[0.52260715, 0.9171857, 0.99999726, 1.0]"
      ]
     },
     "execution_count": 9,
     "metadata": {},
     "output_type": "execute_result"
    }
   ],
   "source": [
    "avgs = []\n",
    "for i in range(agg_test_data.shape[1]):\n",
    "    avgs.append(np.mean(agg_test_data[:, i]))\n",
    "avgs"
   ]
  },
  {
   "cell_type": "code",
   "execution_count": 12,
   "metadata": {},
   "outputs": [
    {
     "data": {
      "image/png": "[encoded data removed]",
      "text/plain": [
       "<Figure size 432x288 with 1 Axes>"
      ]
     },
     "metadata": {
      "needs_background": "light"
     },
     "output_type": "display_data"
    }
   ],
   "source": [
    "plt.bar(np.arange(4), avgs, color='green')\n",
    "plt.xticks(np.arange(4), ['0.01', '0.1', '1', '10'])\n",
    "plt.show()"
   ]
  },
  {
   "cell_type": "code",
   "execution_count": null,
   "metadata": {},
   "outputs": [],
   "source": []
  }
 ],
 "metadata": {
  "kernelspec": {
   "display_name": "Python 3",
   "language": "python",
   "name": "python3"
  },
  "language_info": {
   "codemirror_mode": {
    "name": "ipython",
    "version": 3
   },
   "file_extension": ".py",
   "mimetype": "text/x-python",
   "name": "python",
   "nbconvert_exporter": "python",
   "pygments_lexer": "ipython3",
   "version": "3.8.5"
  }
 },
 "nbformat": 4,
 "nbformat_minor": 4
}
